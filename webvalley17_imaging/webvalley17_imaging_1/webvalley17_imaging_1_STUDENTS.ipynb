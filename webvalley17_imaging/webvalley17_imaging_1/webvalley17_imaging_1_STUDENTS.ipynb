{
 "cells": [
  {
   "cell_type": "code",
   "execution_count": null,
   "metadata": {
    "collapsed": true,
    "deletable": true,
    "editable": true
   },
   "outputs": [],
   "source": [
    "%matplotlib inline"
   ]
  },
  {
   "cell_type": "markdown",
   "metadata": {
    "deletable": true,
    "editable": true
   },
   "source": [
    "# Webvalley 2017 - Imaging Pt. 1\n",
    "\n",
    "The goal of this lab is to familiarize with basic image manipulation in the jupyter notebook environment."
   ]
  },
  {
   "cell_type": "markdown",
   "metadata": {
    "deletable": true,
    "editable": true
   },
   "source": [
    "## Basic image operations\n",
    "\n",
    "In this lab we will work with two-dimensional signals, i.e. images. A handy Python module for image manipulation is <a href=\"http://scikit-image.org/\"><font style=\"TrueType\">scikit-image</font></a>.\n",
    "\n",
    "Our first task will be to load and display some pictures."
   ]
  },
  {
   "cell_type": "code",
   "execution_count": null,
   "metadata": {
    "collapsed": false,
    "deletable": true,
    "editable": true
   },
   "outputs": [],
   "source": [
    "from __future__ import division\n",
    "import matplotlib.pyplot as plt\n",
    "import numpy as np\n",
    "from skimage import data\n",
    "\n",
    "astro = data.astronaut() # scikit-image comes already with some images (try to use the <TAB> key on data.)\n",
    "fish = data.imread('lionfish.jpg') # or you can load a custom one\n",
    "\n",
    "plt.subplot(1,2,1)\n",
    "plt.imshow(astro)\n",
    "\n",
    "plt.subplot(1,2,2)\n",
    "plt.imshow(fish);"
   ]
  },
  {
   "cell_type": "markdown",
   "metadata": {
    "deletable": true,
    "editable": true
   },
   "source": [
    "Can you guess data type and shape of the images?"
   ]
  },
  {
   "cell_type": "code",
   "execution_count": null,
   "metadata": {
    "collapsed": false,
    "deletable": true,
    "editable": true
   },
   "outputs": [],
   "source": [
    "print(\"image data type is: {}\".format('...'))\n",
    "print(\"image shape is: {}\".format('...'))"
   ]
  },
  {
   "cell_type": "markdown",
   "metadata": {
    "deletable": true,
    "editable": true
   },
   "source": [
    "As expected, an *RGB* image is stored in memory as a three dimensional array ($shape = rows \\times columns \\times channels$). The intensities of each color channel are saved in a separate matrix.\n",
    "\n",
    "Do you know how to slice a ``numpy.array``? Check the next image.\n",
    "\n",
    "![idx](numpy_indexing.png)\n",
    "\n",
    "Try to extract the three color channels from an image of choice and print their shape."
   ]
  },
  {
   "cell_type": "code",
   "execution_count": null,
   "metadata": {
    "collapsed": false,
    "deletable": true,
    "editable": true
   },
   "outputs": [],
   "source": [
    "R = astro[:,:,0]\n",
    "G = '...'\n",
    "B = '...'\n",
    "print(\"R shape is: {}\".format('...'))\n",
    "print(\"G shape is: {}\".format('...'))\n",
    "print(\"B shape is: {}\".format('...'))"
   ]
  },
  {
   "cell_type": "markdown",
   "metadata": {
    "deletable": true,
    "editable": true
   },
   "source": [
    "Let's try to inspect the content of a channel, for instance printing the first 5 elements of the first 3 lines of the red one."
   ]
  },
  {
   "cell_type": "code",
   "execution_count": null,
   "metadata": {
    "collapsed": false,
    "deletable": true,
    "editable": true
   },
   "outputs": [],
   "source": [
    "print(R['...'])"
   ]
  },
  {
   "cell_type": "markdown",
   "metadata": {
    "deletable": true,
    "editable": true
   },
   "source": [
    "It looks like an image is stored in memory as a matrix filled with integer numbers. Can you guess the right range? Check it out in the next box.\n",
    "\n",
    "Hint: you can use <font face=\"TrueType\">np.max</font> and <font face=\"TrueType\">np.min</font> on any input <font face=\"TrueType\">numpy.array</font>."
   ]
  },
  {
   "cell_type": "code",
   "execution_count": null,
   "metadata": {
    "collapsed": false,
    "deletable": true,
    "editable": true
   },
   "outputs": [],
   "source": [
    "print(\"Max value for the red channel: {}\".format('...'))\n",
    "print(\"Min value for the red channel: {}\".format('...'))"
   ]
  },
  {
   "cell_type": "markdown",
   "metadata": {
    "deletable": true,
    "editable": true
   },
   "source": [
    "8-bit images are stored in memory as matrices filled with integer numbers spanning between $0$ and $255$. However, sometimes it is useful to represent an image as a matrix of float spanning from $0$ to $1$. Write a Python function that implements such normalization and test it on an input matrix."
   ]
  },
  {
   "cell_type": "code",
   "execution_count": null,
   "metadata": {
    "collapsed": false,
    "deletable": true,
    "editable": true
   },
   "outputs": [],
   "source": [
    "def my_uint2float(img):\n",
    "    return '...'\n",
    "plt.imshow(my_uint2float(G), cmap='Blues');"
   ]
  },
  {
   "cell_type": "markdown",
   "metadata": {
    "deletable": true,
    "editable": true
   },
   "source": [
    "Well done. However, ``skimage`` can do that for us. Check the documentation of <a href=\"http://scikit-image.org/docs/dev/api/skimage.html#skimage.img_as_float\">``skimage.img_as_float``</a>."
   ]
  },
  {
   "cell_type": "code",
   "execution_count": null,
   "metadata": {
    "collapsed": true,
    "deletable": true,
    "editable": true
   },
   "outputs": [],
   "source": [
    "import skimage\n",
    "skimage.img_as_float??"
   ]
  },
  {
   "cell_type": "markdown",
   "metadata": {
    "deletable": true,
    "editable": true
   },
   "source": [
    "Now, apply your new function on the three channels and try to visualize them in separate sections of the same figure. In which channel do you expect the astronaut suit will have highest values?\n",
    "\n",
    "Hint 1: use <a href=\"http://matplotlib.org/api/colorbar_api.html\"><font face=\"TrueType\">plt.colorbar</font></a> to see the color mapping.\n",
    "\n",
    "Hint 2: stick to the same colormap used before"
   ]
  },
  {
   "cell_type": "code",
   "execution_count": null,
   "metadata": {
    "collapsed": false,
    "deletable": true,
    "editable": true
   },
   "outputs": [],
   "source": [
    "plt.figure(figsize=(15,5))\n",
    "\n",
    "plt.subplot(1,3,1)\n",
    "plt.imshow(my_uint2float(R), cmap='gray');\n",
    "plt.colorbar(orientation='vertical')\n",
    "plt.title('R')\n",
    "\n",
    "plt.subplot(1,3,2)\n",
    "plt.imshow(my_uint2float(G), cmap='gray');\n",
    "plt.title('G')\n",
    "plt.colorbar(orientation='vertical')\n",
    "\n",
    "plt.subplot(1,3,3)\n",
    "plt.imshow(my_uint2float(B), cmap='gray');\n",
    "plt.title('B')\n",
    "plt.colorbar(orientation='vertical')\n",
    "\n",
    "plt.tight_layout() # a handy command that increases spacing between subplots"
   ]
  },
  {
   "cell_type": "markdown",
   "metadata": {
    "deletable": true,
    "editable": true
   },
   "source": [
    "Did you guess the right color channel? Bravo! Let's move on.\n",
    "\n",
    "## RGB to grayscale conversion\n",
    "\n",
    "So, a color image is a collection of three matrices each one representing a different color channel. How can we represent a grayscale image? How many *color channels* do we need? We know that it's possible to encode a color image in grayscale using the following linear transformation:\n",
    "\n",
    "$Y = 0.2125 \\cdot R + 0.7154 \\cdot G + 0.0721 \\cdot B$\n",
    "\n",
    "*The coefficients represent the measured intensity perception of typical trichromat humans, depending on the primaries being used; in particular, human vision is most sensitive to green and least sensitive to blue.* [cit. <a href=\"https://en.wikipedia.org/wiki/Grayscale\">Wikipedia</a>]\n",
    "\n",
    "Write a Python function that converts the three channels of an input RGB image to float and then combines them in a grayscale encoding."
   ]
  },
  {
   "cell_type": "code",
   "execution_count": null,
   "metadata": {
    "collapsed": false,
    "deletable": true,
    "editable": true
   },
   "outputs": [],
   "source": [
    "def my_rgb2gray(img):\n",
    "    return '...'"
   ]
  },
  {
   "cell_type": "markdown",
   "metadata": {
    "deletable": true,
    "editable": true
   },
   "source": [
    "Now test it on one of the images above (to obtain more pleasant results try to specify the option ``cmap='gray'`` for the function ``plt.imshow``)."
   ]
  },
  {
   "cell_type": "code",
   "execution_count": null,
   "metadata": {
    "collapsed": false,
    "deletable": true,
    "editable": true
   },
   "outputs": [],
   "source": [
    "plt.imshow(my_rgb2gray(fish), cmap='gray');"
   ]
  },
  {
   "cell_type": "markdown",
   "metadata": {
    "collapsed": true,
    "deletable": true,
    "editable": true
   },
   "source": [
    "Very good. We developed our grayscale conversion utility, but as you can imagine ``skimage`` can do that for us. Import the ``color`` module from the main library and check the help function for <a href=\"http://scikit-image.org/docs/dev/api/skimage.color.html#skimage.color.rgb2gray\">``color.rgb2gray``</a>."
   ]
  },
  {
   "cell_type": "code",
   "execution_count": null,
   "metadata": {
    "collapsed": true,
    "deletable": true,
    "editable": true
   },
   "outputs": [],
   "source": [
    "from skimage import color\n",
    "color.rgb2gray??"
   ]
  },
  {
   "cell_type": "code",
   "execution_count": null,
   "metadata": {
    "collapsed": false,
    "deletable": true,
    "editable": true
   },
   "outputs": [],
   "source": [
    "plt.imshow(color.rgb2gray(fish), cmap='gray');"
   ]
  },
  {
   "cell_type": "markdown",
   "metadata": {
    "deletable": true,
    "editable": true
   },
   "source": [
    "Apparently the two functions return the same thing. But, how can we be sure of that? In other words, can we measure the similarity between two images (matrices)? \n",
    "\n",
    "The answer is: of course we can, and there are several ways to to that. Let's introduce here the most basic image distance measure.\n",
    "\n",
    "The key idea here is to unroll the two images $A$ and $B$ with shape <font face=\"TrueType\">(m, n)</font>, in two vectors $a$ and $b$ shaped as <font face=\"TrueType\">(m $\\cdot$ n, 1)</font>. Then a simple distance between them can be evaluated as follows.\n",
    "\n",
    "$$\\text{RSS} = \\sum_{i=0}^{m\\cdot n} (a_i - b_i)^2$$\n",
    "\n",
    "This measure is known as <a href=\"https://en.wikipedia.org/wiki/Residual_sum_of_squares\">Residual Sum of Squares</a> and it's gonna be useful in the next classes.\n",
    "\n",
    "Implement a Python function that calculates the RSS between two input images and test it on the output obtained from <font face=\"TrueType\">color.rgb2gray</font> and <font face=\"TrueType\">my_rgb2gray</font> on the same image."
   ]
  },
  {
   "cell_type": "code",
   "execution_count": null,
   "metadata": {
    "collapsed": true,
    "deletable": true,
    "editable": true
   },
   "outputs": [],
   "source": [
    "def RSS(a, b):\n",
    "    return '...'"
   ]
  },
  {
   "cell_type": "code",
   "execution_count": null,
   "metadata": {
    "collapsed": false,
    "deletable": true,
    "editable": true
   },
   "outputs": [],
   "source": [
    "fish1 = color.rgb2gray(fish)\n",
    "fish2 = my_rgb2gray(fish)\n",
    "print(\"RSS(fish1, fish2) = {}\".format(RSS(fish1, fish2)))"
   ]
  },
  {
   "cell_type": "markdown",
   "metadata": {
    "deletable": true,
    "editable": true
   },
   "source": [
    "Did you get $RSS=0$? Good."
   ]
  },
  {
   "cell_type": "markdown",
   "metadata": {
    "collapsed": true,
    "deletable": true,
    "editable": true
   },
   "source": [
    "## Histograms\n",
    "\n",
    "Another strategy to check the distance between images is to take advantage of their color intensity distribution on the three channels, let's try to visualize them as histograms using the image of the lionfish.\n",
    "\n",
    "Hint: check the documentation of  <font face=\"TrueType\">plt.hist</font>."
   ]
  },
  {
   "cell_type": "code",
   "execution_count": null,
   "metadata": {
    "collapsed": true,
    "deletable": true,
    "editable": true
   },
   "outputs": [],
   "source": [
    "plt.hist??"
   ]
  },
  {
   "cell_type": "code",
   "execution_count": null,
   "metadata": {
    "collapsed": false,
    "deletable": true,
    "editable": true
   },
   "outputs": [],
   "source": [
    "R = '...'\n",
    "G = '...'\n",
    "B = '...'\n",
    "\n",
    "plt.figure(figsize=(8,3))\n",
    "\n",
    "plt.subplot(1,3,1)\n",
    "plt.hist(R.ravel(), normed=True, color='R');\n",
    "plt.ylim([0,0.03])\n",
    "\n",
    "plt.subplot(1,3,2)\n",
    "plt.hist(G.ravel(), normed=True, color='G');\n",
    "plt.ylim([0,0.03])\n",
    "\n",
    "plt.subplot(1,3,3)\n",
    "plt.ylim([0,0.03])\n",
    "plt.hist(B.ravel(), normed=True, color='B');\n",
    "\n",
    "plt.tight_layout() # a handy command that increases spacing between subplots"
   ]
  },
  {
   "cell_type": "markdown",
   "metadata": {
    "deletable": true,
    "editable": true
   },
   "source": [
    "From those histograms it looks like the blue channel can be used to discriminate the foreground (a lionfish) from the background. This is gonna be the goal of the next section.\n",
    "\n",
    "## Background suppression\n",
    "\n",
    "A <i>binary mask</i> is an simple but effective way to perform a fast background suppression. You can obtain a binary mask in several ways, let's see an example. Create $A$: a simple $3\\times 3$ matrix and then print a binary mask corresponding to the positions where its values are bigger than a certain threshold."
   ]
  },
  {
   "cell_type": "code",
   "execution_count": null,
   "metadata": {
    "collapsed": false,
    "deletable": true,
    "editable": true
   },
   "outputs": [],
   "source": [
    "A = np.array([[2,2,2], [2,3,2], [2,4,2]])\n",
    "print(A>2)"
   ]
  },
  {
   "cell_type": "markdown",
   "metadata": {
    "deletable": true,
    "editable": true
   },
   "source": [
    "Easy, right? Now you can perform a simple background suppression identifying two thresholds from the histogram above and then representing the binary mask of the values lying in between them.\n",
    "\n",
    "Hint: check the documentation for <font face=\"TrueType\">np.multiply</font>."
   ]
  },
  {
   "cell_type": "code",
   "execution_count": null,
   "metadata": {
    "collapsed": true,
    "deletable": true,
    "editable": true
   },
   "outputs": [],
   "source": [
    "np.multiply??"
   ]
  },
  {
   "cell_type": "code",
   "execution_count": null,
   "metadata": {
    "collapsed": false,
    "deletable": true,
    "editable": true
   },
   "outputs": [],
   "source": [
    "mask = '...'\n",
    "plt.imshow(mask, cmap='gray');"
   ]
  },
  {
   "cell_type": "markdown",
   "metadata": {
    "deletable": true,
    "editable": true
   },
   "source": [
    "We may think of improving a bit our mask performing some morphological operations (**optional**)."
   ]
  },
  {
   "cell_type": "code",
   "execution_count": null,
   "metadata": {
    "collapsed": false,
    "deletable": true,
    "editable": true
   },
   "outputs": [],
   "source": [
    "from skimage import morphology\n",
    "\n",
    "selem = morphology.disk(8)\n",
    "mask2 = morphology.dilation(mask, selem)\n",
    "\n",
    "plt.imshow(mask2);"
   ]
  },
  {
   "cell_type": "markdown",
   "metadata": {
    "deletable": true,
    "editable": true
   },
   "source": [
    "Now we can finally suppress the background in our image.\n",
    "\n",
    "Hint 1: with ``numpy`` arrays you can use ``bool`` indexes.\n",
    "\n",
    "Hint 2: to recompose an image that was previously decomposed in its three channels you can use ``np.dstack``."
   ]
  },
  {
   "cell_type": "code",
   "execution_count": null,
   "metadata": {
    "collapsed": true,
    "deletable": true,
    "editable": true
   },
   "outputs": [],
   "source": [
    "np.dstack??"
   ]
  },
  {
   "cell_type": "markdown",
   "metadata": {
    "deletable": true,
    "editable": true
   },
   "source": [
    "Hint 3: <font face=\"TrueType\">numpy</font> has some utilities to initialize matrices and vectors, check for instance <font face=\"TrueType\">np.ones</font> or <font face=\"TrueType\">np.zeros</font>."
   ]
  },
  {
   "cell_type": "code",
   "execution_count": null,
   "metadata": {
    "collapsed": true,
    "deletable": true,
    "editable": true
   },
   "outputs": [],
   "source": [
    "np.ones??"
   ]
  },
  {
   "cell_type": "code",
   "execution_count": null,
   "metadata": {
    "collapsed": false,
    "deletable": true,
    "editable": true
   },
   "outputs": [],
   "source": [
    "'...'\n",
    "fish2 = '...'\n",
    "\n",
    "plt.imshow(fish2);"
   ]
  },
  {
   "cell_type": "markdown",
   "metadata": {
    "collapsed": true,
    "deletable": true,
    "editable": true
   },
   "source": [
    "The result is a bit ugly, yeah. But it's reasonable given its extreme simplicity.\n",
    "\n",
    "## Image noise\n",
    "\n",
    "As we did before for 1D signals, we can modify an image applying some transformations to the intensity of their pixels. Let's try, for instance, to write a function that converts an image to greyscale and then adds some Gaussian noise to it."
   ]
  },
  {
   "cell_type": "code",
   "execution_count": null,
   "metadata": {
    "collapsed": false,
    "deletable": true,
    "editable": true
   },
   "outputs": [],
   "source": [
    "from skimage import color\n",
    "\n",
    "def rgb2noisygray(img, mu, sigma):\n",
    "    return '...'\n",
    "\n",
    "noisy_img = rgb2noisygray(fish, 0, 1)\n",
    "plt.imshow(noisy_img, cmap='gray');"
   ]
  },
  {
   "cell_type": "markdown",
   "metadata": {
    "deletable": true,
    "editable": true
   },
   "source": [
    "### Exercises\n",
    "\n",
    "Write some custom function that implement the following basic operations.\n",
    "\n",
    "<ol>\n",
    "<li>Decompose an image into its three channels, add some Gaussian random noise to each one of them, recompose and visualize the noisy image.</li>\n",
    "<li>Pick an image you like and select the foreground, then suppress one its the three channels. The result may look like the following image.\n",
    "<img src=\"ex2.png\" width=600 height=450></img></li>\n",
    "<li>Generate and visualize some 2D sinusoids.</li>\n",
    "<li>Convert a color image to grayscale and then add the 2D sinusoidal noise you just generated. The output should look like the follwing image.\n",
    "<img src=\"ex1.png\" width=600 height=450></img>\n",
    "Hint: check this out <a href=\"http://docs.scipy.org/doc/numpy/reference/generated/numpy.meshgrid.html\"><font style=\"TrueType\">np.meshgrid</font></a>\n",
    "</li>\n",
    "</ol>"
   ]
  },
  {
   "cell_type": "code",
   "execution_count": null,
   "metadata": {
    "collapsed": true,
    "deletable": true,
    "editable": true
   },
   "outputs": [],
   "source": []
  }
 ],
 "metadata": {
  "anaconda-cloud": {},
  "kernelspec": {
   "display_name": "Python [conda root]",
   "language": "python",
   "name": "conda-root-py"
  },
  "language_info": {
   "codemirror_mode": {
    "name": "ipython",
    "version": 2
   },
   "file_extension": ".py",
   "mimetype": "text/x-python",
   "name": "python",
   "nbconvert_exporter": "python",
   "pygments_lexer": "ipython2",
   "version": "2.7.13"
  }
 },
 "nbformat": 4,
 "nbformat_minor": 0
}
