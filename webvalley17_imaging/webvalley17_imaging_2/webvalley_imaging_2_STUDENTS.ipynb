{
 "cells": [
  {
   "cell_type": "code",
   "execution_count": null,
   "metadata": {
    "collapsed": true,
    "deletable": true,
    "editable": true
   },
   "outputs": [],
   "source": [
    "%matplotlib inline"
   ]
  },
  {
   "cell_type": "markdown",
   "metadata": {
    "deletable": true,
    "editable": true
   },
   "source": [
    "# Webvalley - Imaging Pt. 2\n",
    "## Features detection\n",
    "\n",
    "In this lab, we will implement some simple solution to perform features detection on images. First of all, what does it mean **feature detection**?\n",
    "\n",
    "*In computer vision and image processing the concept of feature detection refers to methods that aim at computing abstractions of image information and making local decisions at every image point whether there is an image feature of a given type at that point or not. The resulting features will be subsets of the image domain, often in the form of isolated points, continuous curves or connected regions.*\n",
    "\n",
    "[cit. <a href=\"https://en.wikipedia.org/wiki/Feature_detection_(computer_vision)\">Wikipedia</a>]\n",
    "\n",
    "In this lab we will restrict our attention on **edges** and **corners** (see example below). For a comprehensive summary on feature detection algorithms, I strongly recommend to check <a href=\"http://scikit-image.org/docs/dev/api/skimage.feature.html?highlight=feature#module-skimage.feature\">`skimage.feature`</a> API."
   ]
  },
  {
   "cell_type": "code",
   "execution_count": null,
   "metadata": {
    "collapsed": true,
    "deletable": true,
    "editable": true
   },
   "outputs": [],
   "source": [
    "from IPython.display import HTML, display"
   ]
  },
  {
   "cell_type": "code",
   "execution_count": null,
   "metadata": {
    "collapsed": false,
    "deletable": true,
    "editable": true,
    "scrolled": true
   },
   "outputs": [],
   "source": [
    "display(HTML(\"<table><tr><td><img src='I1.png'></td><td><img src='E1.png'></td><td><img src='C1.png'></td></tr></table>\"))"
   ]
  },
  {
   "cell_type": "markdown",
   "metadata": {
    "deletable": true,
    "editable": true
   },
   "source": [
    "## 1. Edge detection"
   ]
  },
  {
   "cell_type": "markdown",
   "metadata": {
    "deletable": true,
    "editable": true
   },
   "source": [
    "Over the years, <a href=\"https://en.wikipedia.org/wiki/Edge_detection\">several algorithms</a> for edge detection were developed. In this lab we are going to implement an edge detector that follows this simple strategy:\n",
    "\n",
    "1. perform Gaussian smoothing on an input greyscale converted $0-1$ (if needed) image;\n",
    "2. then compute the partial first derivatives on the result and the magnitude of the gradient;\n",
    "4. thresholds the magnitude of the gradient with an input threshold;\n",
    "5. return the edge map.\n",
    "\n",
    "The parameters of every intermediate step, must be specified as input arguments."
   ]
  },
  {
   "cell_type": "markdown",
   "metadata": {
    "deletable": true,
    "editable": true
   },
   "source": [
    "### 1.1 Gaussian smoothing\n",
    "We already covered this step in the last lab."
   ]
  },
  {
   "cell_type": "code",
   "execution_count": null,
   "metadata": {
    "collapsed": false,
    "deletable": true,
    "editable": true
   },
   "outputs": [],
   "source": [
    "import numpy as np\n",
    "from scipy import signal\n",
    "import matplotlib.pyplot as plt\n",
    "from matplotlib import cm\n",
    "from skimage import data, color, img_as_float, img_as_ubyte, filters, feature\n",
    "\n",
    "# Load an input image and convert it to grayscale (0-1)\n",
    "RGBimg = '...'\n",
    "img = '...'\n",
    "\n",
    "# Apply gaussian filter\n",
    "img_smooth = '...'\n",
    "\n",
    "plt.figure(figsize=(8,6))\n",
    "plt.subplot(121)\n",
    "plt.imshow(RGBimg, cmap=cm.gist_gray)\n",
    "plt.title('Original image')\n",
    "plt.subplot(122)\n",
    "plt.imshow(img_smooth, cmap=cm.gist_gray)\n",
    "plt.title('Gaussian filtered image');"
   ]
  },
  {
   "cell_type": "markdown",
   "metadata": {
    "deletable": true,
    "editable": true
   },
   "source": [
    "### 1.2 Image gradient\n",
    "To estimate the first derivative (finite differences) of an image on the horizontal ($I_x$) direction you can simply perform a convolution of the image with the kernel $k=[-0.5, 0, 0.5]$. Can you guess what do you need to do to estimate the first derivative on the vertical ($I_y$) direction?\n",
    "\n",
    "The magnitude of the gradient is $G = \\sqrt{I_x^2+I_y^2}$."
   ]
  },
  {
   "cell_type": "code",
   "execution_count": null,
   "metadata": {
    "collapsed": false,
    "deletable": true,
    "editable": true
   },
   "outputs": [],
   "source": [
    "# Partial derivatives kernel\n",
    "k = '...'\n",
    "\n",
    "# Compute first derivative along x\n",
    "Ix = '...'\n",
    "\n",
    "# Compute first derivative along y\n",
    "Iy = '...'\n",
    "\n",
    "# Compute the mangnitude of the gradient\n",
    "G = '...'\n",
    "\n",
    "plt.figure(figsize=(12,6))\n",
    "plt.subplot(131)\n",
    "plt.imshow(Ix, cmap=cm.gist_gray)\n",
    "plt.title(r'$I_x$')\n",
    "plt.subplot(132)\n",
    "plt.imshow(Iy, cmap=cm.gist_gray)\n",
    "plt.title(r'$I_y$')\n",
    "plt.subplot(133)\n",
    "plt.imshow(G, cmap=cm.gist_gray)\n",
    "plt.title(r'$G = \\sqrt{I_x^2+I_y^2}$')\n",
    "plt.tight_layout;"
   ]
  },
  {
   "cell_type": "markdown",
   "metadata": {
    "deletable": true,
    "editable": true
   },
   "source": [
    "### 1.3 Edge map\n",
    "Thresholding the gradient you should be able to obtain the an estimate of the edges of the input image."
   ]
  },
  {
   "cell_type": "code",
   "execution_count": null,
   "metadata": {
    "collapsed": false,
    "deletable": true,
    "editable": true
   },
   "outputs": [],
   "source": [
    "threshold = '...'\n",
    "edge = '...'\n",
    "\n",
    "plt.figure(figsize=(8,6))\n",
    "plt.subplot(121)\n",
    "plt.imshow(img, cmap=cm.gist_gray)\n",
    "plt.title('Original image')\n",
    "plt.subplot(122)\n",
    "plt.imshow(edge, cmap=cm.gist_gray)\n",
    "plt.title('Edge map');"
   ]
  },
  {
   "cell_type": "markdown",
   "metadata": {
    "deletable": true,
    "editable": true
   },
   "source": [
    "### 1.4 Edge detection function\n",
    "Summarize the steps above in a single function named `edge_detector`, and test it to different images."
   ]
  },
  {
   "cell_type": "code",
   "execution_count": null,
   "metadata": {
    "collapsed": true,
    "deletable": true,
    "editable": true
   },
   "outputs": [],
   "source": [
    "def edge_detector(img, sigma, threshold):\n",
    "    \"\"\"Perform edge detection on an input RGB image.\n",
    "    \n",
    "    - img: (n, m) input RGB image\n",
    "    - sigma: float, standard deviation of the Gaussian smoothing\n",
    "    - threshold: float, threshold value for the gradient\n",
    "    \"\"\"\n",
    "    # Convert to grayscale and convert the image to float\n",
    "    _img = '...'\n",
    "    \n",
    "    # Apply Gaussian filter\n",
    "    img_smooth = '...'\n",
    "    \n",
    "    # Compute first derivatives with the following kernel\n",
    "    k = '...'\n",
    "\n",
    "    # Compute first derivative along x\n",
    "    Ix = '...'\n",
    "\n",
    "    # Compute first derivative along y\n",
    "    Iy = '...'\n",
    "\n",
    "    # Compute the mangnitude of the gradient\n",
    "    G = '...'\n",
    "    \n",
    "    # Generate edge map\n",
    "    edge = '...'\n",
    "    \n",
    "    return edge"
   ]
  },
  {
   "cell_type": "code",
   "execution_count": null,
   "metadata": {
    "collapsed": false,
    "deletable": true,
    "editable": true
   },
   "outputs": [],
   "source": [
    "# Run some edge detection\n",
    "RGBimg = '...'\n",
    "edge = '...'\n",
    "\n",
    "plt.figure(figsize=(12,6))\n",
    "plt.subplot(121)\n",
    "plt.imshow(RGBimg, cmap=cm.gist_gray)\n",
    "plt.title('Original image')\n",
    "plt.subplot(122)\n",
    "plt.imshow(edge, cmap=cm.gist_gray)\n",
    "plt.title('Edge map');"
   ]
  },
  {
   "cell_type": "markdown",
   "metadata": {
    "deletable": true,
    "editable": true
   },
   "source": [
    "### 1.5 Comparison with the Canny algorithm\n",
    "Compare the results obtained by our simple implementation with the well known <a href=\"http://scikit-image.org/docs/dev/api/skimage.feature.html?highlight=feature#skimage.feature.canny\">Canny edge detector</a>.\n",
    "\n",
    "**Hint:** check the help for `feature.canny` from the `skimage` library"
   ]
  },
  {
   "cell_type": "code",
   "execution_count": null,
   "metadata": {
    "collapsed": true,
    "deletable": true,
    "editable": true
   },
   "outputs": [],
   "source": [
    "feature.canny??"
   ]
  },
  {
   "cell_type": "code",
   "execution_count": null,
   "metadata": {
    "collapsed": false,
    "deletable": true,
    "editable": true
   },
   "outputs": [],
   "source": [
    "# Run some edge detection\n",
    "RGBimg = '...'\n",
    "edge = '...'\n",
    "edge_canny = '...'\n",
    "\n",
    "plt.figure(figsize=(12,6))\n",
    "plt.subplot(131)\n",
    "plt.imshow(RGBimg, cmap=cm.gist_gray)\n",
    "plt.title('Original image')\n",
    "plt.subplot(132)\n",
    "plt.imshow(edge, cmap=cm.gist_gray)\n",
    "plt.title('Edge map')\n",
    "plt.subplot(133)\n",
    "plt.imshow(edge_canny, cmap=cm.gist_gray)\n",
    "plt.title('Edge map');"
   ]
  },
  {
   "cell_type": "markdown",
   "metadata": {
    "deletable": true,
    "editable": true
   },
   "source": [
    "## 2. Corner detection\n",
    "\n",
    "Corners are fundamental image features that are often used in a large number of applications such as image matching, face recognition, and so on. Among the <a href=\"https://en.wikipedia.org/wiki/Corner_detection\">plethora of corner detection algorithms</a> a very well known is the <a href=\"https://en.wikipedia.org/wiki/Corner_detection#The_Harris_.26_Stephens_.2F_Plessey_.2F_Shi.E2.80.93Tomasi_corner_detection_algorithms\">Shi-Tomasi</a> algorithm.\n",
    "\n",
    "In the next box we are gonna exploit <a href=\"http://scikit-image.org/docs/dev/api/skimage.feature.html?highlight=feature#skimage.feature.corner_shi_tomasi\">`feature.corner_shi_tomasi`</a> from `skimage` to perform some corner detection."
   ]
  },
  {
   "cell_type": "code",
   "execution_count": null,
   "metadata": {
    "collapsed": true,
    "deletable": true,
    "editable": true
   },
   "outputs": [],
   "source": [
    "feature.corner_shi_tomasi??"
   ]
  },
  {
   "cell_type": "code",
   "execution_count": null,
   "metadata": {
    "collapsed": false,
    "deletable": true,
    "editable": true
   },
   "outputs": [],
   "source": [
    "RGBimg = '...'\n",
    "corners_map = '...'\n",
    "\n",
    "plt.figure(figsize=(12,6))\n",
    "plt.subplot(121)\n",
    "plt.imshow(RGBimg, cmap=cm.gist_gray)\n",
    "plt.title('Original image')\n",
    "plt.subplot(122)\n",
    "plt.imshow(corners_map, cmap=cm.jet)\n",
    "plt.colorbar(orientation='horizontal')\n",
    "plt.title('Corners map');"
   ]
  },
  {
   "cell_type": "markdown",
   "metadata": {
    "deletable": true,
    "editable": true
   },
   "source": [
    "Once the corner map is estimated, to estimate the actual corner position you should implement some corner peaks detection. A simple idea could be, for instance, to perform a simple thresholding of the corners map. Try this idea out in the next cell."
   ]
  },
  {
   "cell_type": "code",
   "execution_count": null,
   "metadata": {
    "collapsed": false,
    "deletable": true,
    "editable": true
   },
   "outputs": [],
   "source": [
    "threshold = '...'\n",
    "naive_corners = '...'\n",
    "\n",
    "plt.figure(figsize=(12,6))\n",
    "plt.imshow(RGBimg, cmap=cm.gist_gray)\n",
    "plt.scatter(naive_corners[1], naive_corners[0], s=30, c='r');"
   ]
  },
  {
   "cell_type": "markdown",
   "metadata": {
    "deletable": true,
    "editable": true
   },
   "source": [
    "More refined algorithms to detect the corner peaks were proposed, see for instance `feature.corner_peaks`."
   ]
  },
  {
   "cell_type": "code",
   "execution_count": null,
   "metadata": {
    "collapsed": true,
    "deletable": true,
    "editable": true
   },
   "outputs": [],
   "source": [
    "feature.corner_peaks??"
   ]
  },
  {
   "cell_type": "markdown",
   "metadata": {
    "deletable": true,
    "editable": true
   },
   "source": [
    "Compare the results obtained by the two corner peaks approaches."
   ]
  },
  {
   "cell_type": "code",
   "execution_count": null,
   "metadata": {
    "collapsed": false,
    "deletable": true,
    "editable": true
   },
   "outputs": [],
   "source": [
    "corners = '...'\n",
    "\n",
    "plt.figure(figsize=(12,6))\n",
    "plt.subplot(121)\n",
    "plt.imshow(RGBimg, cmap=cm.gist_gray)\n",
    "plt.scatter(corners[:,1], corners[:,0], s=30)\n",
    "plt.title('skimage.feature.corner_peaks result')\n",
    "\n",
    "plt.subplot(122)\n",
    "plt.imshow(RGBimg, cmap=cm.gist_gray)\n",
    "plt.scatter(naive_corners[1], naive_corners[0], s=30, c='r')\n",
    "plt.title('naive thresholding result');"
   ]
  },
  {
   "cell_type": "code",
   "execution_count": null,
   "metadata": {
    "collapsed": true,
    "deletable": true,
    "editable": true
   },
   "outputs": [],
   "source": []
  }
 ],
 "metadata": {
  "anaconda-cloud": {},
  "kernelspec": {
   "display_name": "Python [conda env:DSIP]",
   "language": "python",
   "name": "conda-env-DSIP-py"
  },
  "language_info": {
   "codemirror_mode": {
    "name": "ipython",
    "version": 3
   },
   "file_extension": ".py",
   "mimetype": "text/x-python",
   "name": "python",
   "nbconvert_exporter": "python",
   "pygments_lexer": "ipython3",
   "version": "3.5.2"
  }
 },
 "nbformat": 4,
 "nbformat_minor": 1
}
