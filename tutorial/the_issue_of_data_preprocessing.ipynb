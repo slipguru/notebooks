{
 "cells": [
  {
   "cell_type": "markdown",
   "metadata": {},
   "source": [
    "# The issue of data preprocessing\n",
    "\n",
    "Data preprocessing is a common practice in almost every real-world data-science application.\n",
    "\n",
    "In the context of supervised machine-learning this apparently harmless initial procedure can lead to severe overoptmistic generalization error estimation due to overfitting. Let's make an example.\n",
    "\n",
    "## 1. One-dimensional linear regression"
   ]
  },
  {
   "cell_type": "code",
   "execution_count": null,
   "metadata": {
    "collapsed": true
   },
   "outputs": [],
   "source": []
  }
 ],
 "metadata": {
  "anaconda-cloud": {},
  "kernelspec": {
   "display_name": "Python [conda env:DSIP]",
   "language": "python",
   "name": "conda-env-DSIP-py"
  },
  "language_info": {
   "codemirror_mode": {
    "name": "ipython",
    "version": 3
   },
   "file_extension": ".py",
   "mimetype": "text/x-python",
   "name": "python",
   "nbconvert_exporter": "python",
   "pygments_lexer": "ipython3",
   "version": "3.5.2"
  }
 },
 "nbformat": 4,
 "nbformat_minor": 1
}
