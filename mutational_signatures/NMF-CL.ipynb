{
 "cells": [
  {
   "cell_type": "code",
   "execution_count": null,
   "metadata": {
    "collapsed": true
   },
   "outputs": [],
   "source": [
    "from dalila.dictionary_learning import StabilityDictionaryLearning,DictionaryLearning\n",
    "import numpy as np\n",
    "import matplotlib.pyplot as plt\n",
    "from matplotlib import rcParams\n",
    "from joblib import Parallel, delayed\n",
    "import multiprocessing\n"
   ]
  },
  {
   "cell_type": "code",
   "execution_count": null,
   "metadata": {
    "collapsed": true
   },
   "outputs": [],
   "source": [
    "from utils import *"
   ]
  },
  {
   "cell_type": "markdown",
   "metadata": {},
   "source": [
    "# Load data"
   ]
  },
  {
   "cell_type": "code",
   "execution_count": null,
   "metadata": {
    "collapsed": true
   },
   "outputs": [],
   "source": [
    "from scipy.io import loadmat\n",
    "from unicodedata import normalize\n",
    "filename = \"data/breast_cancer_data.mat\"\n",
    "data = loadmat(filename, appendmat=False)\n",
    "v = data[\"originalGenomes\"]\n",
    "types = data[\"types\"]\n",
    "l = len(types)\n",
    "types_1 = [None] * l\n",
    "for i in range(0, l):\n",
    "    types_1[i] = normalize('NFKD', types[i][0][0]).encode('ascii','ignore')\n",
    "data = v.T\n",
    "types = np.asarray(types_1)"
   ]
  },
  {
   "cell_type": "markdown",
   "metadata": {},
   "source": [
    "Remove \"weak\" mutations from the dataset"
   ]
  },
  {
   "cell_type": "code",
   "execution_count": null,
   "metadata": {
    "collapsed": true
   },
   "outputs": [],
   "source": [
    "res = remove_weak_mutations(data, 0.01)\n",
    "X = res[\"mutational_catalogue\"]\n",
    "removed_cols = res[\"removed_cols\"]"
   ]
  },
  {
   "cell_type": "markdown",
   "metadata": {},
   "source": [
    "# Extract mutational signatures\n",
    "For each possible number of signatures it extracts the dictionary and the coefficients using Non-negative Matrix Factorization and clustering the atoms until convergence. "
   ]
  },
  {
   "cell_type": "code",
   "execution_count": null,
   "metadata": {
    "collapsed": true
   },
   "outputs": [],
   "source": [
    "def process_input(k, X):\n",
    "    print(\"NUMBER OF ATOMS: \", k)\n",
    "    estimator = StabilityDictionaryLearning(k=k, non_negativity=\"both\")\n",
    "    estimator.fit(X)\n",
    "    C, D = estimator.decomposition()\n",
    "    return C, D, estimator.stability, np.sum((X - C.dot(D))**2)\n",
    "    "
   ]
  },
  {
   "cell_type": "code",
   "execution_count": null,
   "metadata": {},
   "outputs": [],
   "source": [
    "num_cores = multiprocessing.cpu_count()\n",
    "possible_atoms = np.arange(2,9)\n",
    "results = Parallel(n_jobs=num_cores)(delayed(process_input)(k, X) for k in possible_atoms)"
   ]
  },
  {
   "cell_type": "markdown",
   "metadata": {},
   "source": [
    "## Plot the stabilities and the reconstruction errors"
   ]
  },
  {
   "cell_type": "code",
   "execution_count": null,
   "metadata": {
    "collapsed": true
   },
   "outputs": [],
   "source": [
    "Cs = []\n",
    "Ds = []\n",
    "stabilities = []\n",
    "errors = []\n",
    "for k in range(len(results)):\n",
    "    Cs.append(results[k][0])\n",
    "    Ds.append(results[k][1])\n",
    "    stabilities.append(results[k][2])\n",
    "    errors.append(results[k][3])"
   ]
  },
  {
   "cell_type": "code",
   "execution_count": null,
   "metadata": {},
   "outputs": [],
   "source": [
    "fig, ax1 = plt.subplots(figsize=(5,5))\n",
    "markers_on = [4]\n",
    "ax1.plot(np.arange(2,9), stabilities, '-bD', markevery=markers_on, label=\"Stability\")\n",
    "# Make the y-axis label, ticks and tick labels match the line color.\n",
    "ax1.tick_params('y', colors='b')\n",
    "ax1.set_xlabel('Number of mutational signatures')\n",
    "ax2 = ax1.twinx()\n",
    "ax2.plot(np.arange(2,9), erros, '-rD', markevery=markers_on, label=\"Reconstruction error\")\n",
    "ax2.tick_params('y', colors='r')\n",
    "\n",
    "ax1.legend(bbox_to_anchor=(0., 1.02, 1., .102), loc=3)\n",
    "ax2.legend(bbox_to_anchor=(0.4, 1.02, 1., .102), loc=3)\n",
    "plt.rcParams['axes.facecolor'] = (0.294, 0.294, 0.5, 0.3)\n",
    "fig.tight_layout()\n",
    "plt.show()"
   ]
  },
  {
   "cell_type": "markdown",
   "metadata": {},
   "source": [
    "Select the best number given the plot"
   ]
  },
  {
   "cell_type": "code",
   "execution_count": null,
   "metadata": {},
   "outputs": [],
   "source": [
    "D = Ds[4]\n",
    "C = Cs[4]"
   ]
  },
  {
   "cell_type": "markdown",
   "metadata": {},
   "source": [
    "Re-insert the removed \"weak\" columns"
   ]
  },
  {
   "cell_type": "code",
   "execution_count": null,
   "metadata": {
    "collapsed": true
   },
   "outputs": [],
   "source": [
    "D = add_removed_cols(D, removed_cols)\n",
    "D_ordered = ordering_for_types(D, types)"
   ]
  },
  {
   "cell_type": "markdown",
   "metadata": {},
   "source": [
    "# Plot the resulting atoms"
   ]
  },
  {
   "cell_type": "code",
   "execution_count": null,
   "metadata": {
    "collapsed": true
   },
   "outputs": [],
   "source": [
    "for i in range(D.shape[0]):\n",
    "    plot_atom(our_D[i,:])"
   ]
  },
  {
   "cell_type": "markdown",
   "metadata": {},
   "source": [
    "# Analysis of the coefficients "
   ]
  },
  {
   "cell_type": "code",
   "execution_count": null,
   "metadata": {},
   "outputs": [],
   "source": [
    "percentages = np.zeros_like(C)\n",
    "\n",
    "for sample in range(C.shape[0]):\n",
    "    total = np.sum(C[sample,:])\n",
    "    if(total != 0):\n",
    "        percentages[sample,:] = C[sample, :] / total \n",
    "\n",
    "print(percentages)"
   ]
  },
  {
   "cell_type": "code",
   "execution_count": null,
   "metadata": {},
   "outputs": [],
   "source": [
    "percentages[np.where(percentages<0.25)] = 0\n",
    "frequencies = np.zeros(D.shape[0])\n",
    "for atom in range(percentages.shape[1]):\n",
    "    frequencies[atom]= len(np.nonzero(percentages[:,atom])[0])\n",
    "plt.figure(figsize=(15,10))\n",
    "plt.hist(np.arange(D.shape[0]),weights=frequencies, bins=D.shape[0], orientation=\"horizontal\");\n",
    "plt.show()"
   ]
  }
 ],
 "metadata": {
  "kernelspec": {
   "display_name": "Python 2",
   "language": "python",
   "name": "python2"
  },
  "language_info": {
   "codemirror_mode": {
    "name": "ipython",
    "version": 2
   },
   "file_extension": ".py",
   "mimetype": "text/x-python",
   "name": "python",
   "nbconvert_exporter": "python",
   "pygments_lexer": "ipython2",
   "version": "2.7.13"
  }
 },
 "nbformat": 4,
 "nbformat_minor": 2
}
