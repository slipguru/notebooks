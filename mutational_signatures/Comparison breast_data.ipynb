{
 "cells": [
  {
   "cell_type": "code",
   "execution_count": 3,
   "metadata": {
    "collapsed": true
   },
   "outputs": [],
   "source": [
    "import numpy as np"
   ]
  },
  {
   "cell_type": "code",
   "execution_count": 13,
   "metadata": {},
   "outputs": [],
   "source": [
    "tcga_data = np.load(\"/home/veronica/Desktop/UVM/matrices_all_cancer/breast_protected.npy\")"
   ]
  },
  {
   "cell_type": "code",
   "execution_count": 14,
   "metadata": {
    "collapsed": true
   },
   "outputs": [],
   "source": [
    "from scipy.io import loadmat\n",
    "from unicodedata import normalize\n",
    "filename = \"/home/veronica/Desktop/UVM/mutation_signatures/datasets/breast_cancer_data.mat\"\n",
    "data = loadmat(filename, appendmat=False)\n",
    "v = data[\"originalGenomes\"]\n",
    "types = data[\"types\"]\n",
    "l = len(types)\n",
    "types_1 = [None] * l\n",
    "for i in range(0, l):\n",
    "    types_1[i] = normalize('NFKD', types[i][0][0]).encode('ascii','ignore')\n",
    "alexandrov_data = v.T\n",
    "types = np.asarray(types_1)"
   ]
  },
  {
   "cell_type": "code",
   "execution_count": 15,
   "metadata": {
    "collapsed": true
   },
   "outputs": [],
   "source": [
    "def ordering_for_types(D, types):\n",
    "    possible_types = [\"C>A\", \"C>G\", \"C>T\", \"T>A\", \"T>C\", \"T>G\"]\n",
    "    mutations = dict.fromkeys(possible_types)\n",
    "    for mut in mutations:\n",
    "        mutations[mut] = np.where(types == mut)\n",
    "\n",
    "    new_D = np.zeros_like(D)\n",
    "    count = 0\n",
    "    for mut in possible_types:\n",
    "        new_D[:, count:count+len(mutations[mut][0])] = D[:, mutations[mut][0]]\n",
    "        count += len(mutations[mut][0])\n",
    "    return new_D"
   ]
  },
  {
   "cell_type": "code",
   "execution_count": 16,
   "metadata": {},
   "outputs": [],
   "source": [
    "alexandrov_data = ordering_for_types(alexandrov_data, types)"
   ]
  },
  {
   "cell_type": "code",
   "execution_count": 17,
   "metadata": {},
   "outputs": [
    {
     "name": "stdout",
     "output_type": "stream",
     "text": [
      "('Max value in tcga data:', 4043.0)\n",
      "('Max value in Alexandrov data: ', 18171)\n"
     ]
    }
   ],
   "source": [
    "print(\"Max value in tcga data:\", np.amax(tcga_data))\n",
    "print(\"Max value in Alexandrov data: \", np.amax(alexandrov_data))"
   ]
  },
  {
   "cell_type": "code",
   "execution_count": 18,
   "metadata": {},
   "outputs": [
    {
     "name": "stdout",
     "output_type": "stream",
     "text": [
      "('Min value in tcga data:', 0.0)\n",
      "('Min value in Alexandrov data: ', 0)\n"
     ]
    }
   ],
   "source": [
    "print(\"Min value in tcga data:\", np.amin(tcga_data))\n",
    "print(\"Min value in Alexandrov data: \", np.amin(alexandrov_data))"
   ]
  },
  {
   "cell_type": "code",
   "execution_count": 19,
   "metadata": {},
   "outputs": [
    {
     "name": "stdout",
     "output_type": "stream",
     "text": [
      "('Min value in tcga data:', 11.820036939942803)\n",
      "('Min value in Alexandrov data: ', 91.228174603174608)\n"
     ]
    }
   ],
   "source": [
    "print(\"Min value in tcga data:\", np.mean(tcga_data))\n",
    "print(\"Min value in Alexandrov data: \", np.mean(alexandrov_data))"
   ]
  },
  {
   "cell_type": "code",
   "execution_count": null,
   "metadata": {
    "collapsed": true
   },
   "outputs": [],
   "source": []
  }
 ],
 "metadata": {
  "kernelspec": {
   "display_name": "Python 2",
   "language": "python",
   "name": "python2"
  },
  "language_info": {
   "codemirror_mode": {
    "name": "ipython",
    "version": 2
   },
   "file_extension": ".py",
   "mimetype": "text/x-python",
   "name": "python",
   "nbconvert_exporter": "python",
   "pygments_lexer": "ipython2",
   "version": "2.7.13"
  }
 },
 "nbformat": 4,
 "nbformat_minor": 2
}
